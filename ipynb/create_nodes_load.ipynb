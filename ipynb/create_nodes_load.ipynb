{
 "cells": [
  {
   "cell_type": "code",
   "execution_count": null,
   "id": "ba5d2d04",
   "metadata": {},
   "outputs": [],
   "source": []
  },
  {
   "cell_type": "code",
   "execution_count": 2,
   "id": "dc33e17b",
   "metadata": {},
   "outputs": [],
   "source": [
    "from sqlalchemy import create_engine, Column, Integer, Float, String, ForeignKey, Table\n",
    "from sqlalchemy.ext.declarative import declarative_base\n",
    "from sqlalchemy.orm import sessionmaker, relationship\n",
    "\n",
    "# SQLAlchemy Base 생성\n",
    "Base = declarative_base()\n",
    "\n",
    "# 데이터베이스 연결 설정\n",
    "username = 'admin'\n",
    "password = 'seoul1234!'\n",
    "host = 'seoul-rds.cteyic8ukah5.ap-northeast-2.rds.amazonaws.com'\n",
    "port = 3306\n",
    "database = 'myappDB'\n",
    "engine = create_engine(f'mysql+pymysql://{username}:{password}@{host}:{port}/{database}', echo=True)\n",
    "Session = sessionmaker(bind=engine)\n",
    "session = Session()"
   ]
  },
  {
   "cell_type": "code",
   "execution_count": 3,
   "id": "6aa7bb49",
   "metadata": {},
   "outputs": [
    {
     "name": "stdout",
     "output_type": "stream",
     "text": [
      "2024-04-15 17:08:31,589 INFO sqlalchemy.engine.Engine SELECT DATABASE()\n",
      "2024-04-15 17:08:31,597 INFO sqlalchemy.engine.Engine [raw sql] {}\n",
      "2024-04-15 17:08:31,623 INFO sqlalchemy.engine.Engine SELECT @@sql_mode\n",
      "2024-04-15 17:08:31,623 INFO sqlalchemy.engine.Engine [raw sql] {}\n",
      "2024-04-15 17:08:31,636 INFO sqlalchemy.engine.Engine SELECT @@lower_case_table_names\n",
      "2024-04-15 17:08:31,636 INFO sqlalchemy.engine.Engine [raw sql] {}\n",
      "2024-04-15 17:08:31,661 INFO sqlalchemy.engine.Engine BEGIN (implicit)\n",
      "2024-04-15 17:08:31,665 INFO sqlalchemy.engine.Engine SELECT COUNT(*) FROM information_schema.tables WHERE table_schema = %(table_schema)s AND table_name = %(table_name)s\n",
      "2024-04-15 17:08:31,668 INFO sqlalchemy.engine.Engine [generated in 0.00271s] {'table_schema': 'myappDB', 'table_name': 'nodes'}\n",
      "2024-04-15 17:08:31,685 INFO sqlalchemy.engine.Engine SELECT COUNT(*) FROM information_schema.tables WHERE table_schema = %(table_schema)s AND table_name = %(table_name)s\n",
      "2024-04-15 17:08:31,686 INFO sqlalchemy.engine.Engine [cached since 0.01987s ago] {'table_schema': 'myappDB', 'table_name': 'neighbors'}\n",
      "2024-04-15 17:08:31,699 INFO sqlalchemy.engine.Engine \n",
      "CREATE TABLE nodes (\n",
      "\tid INTEGER NOT NULL AUTO_INCREMENT, \n",
      "\tlat FLOAT, \n",
      "\tlon FLOAT, \n",
      "\t`rank` INTEGER, \n",
      "\tg FLOAT, \n",
      "\tf FLOAT, \n",
      "\tparent_id INTEGER, \n",
      "\tPRIMARY KEY (id), \n",
      "\tFOREIGN KEY(parent_id) REFERENCES nodes (id)\n",
      ")\n",
      "\n",
      "\n",
      "2024-04-15 17:08:31,700 INFO sqlalchemy.engine.Engine [no key 0.00071s] {}\n",
      "2024-04-15 17:08:31,866 INFO sqlalchemy.engine.Engine \n",
      "CREATE TABLE neighbors (\n",
      "\tnode_id INTEGER NOT NULL, \n",
      "\tneighbor_id INTEGER NOT NULL, \n",
      "\tPRIMARY KEY (node_id, neighbor_id), \n",
      "\tFOREIGN KEY(node_id) REFERENCES nodes (id), \n",
      "\tFOREIGN KEY(neighbor_id) REFERENCES nodes (id)\n",
      ")\n",
      "\n",
      "\n",
      "2024-04-15 17:08:31,868 INFO sqlalchemy.engine.Engine [no key 0.00205s] {}\n",
      "2024-04-15 17:08:31,947 INFO sqlalchemy.engine.Engine COMMIT\n"
     ]
    }
   ],
   "source": [
    "class Node(Base):\n",
    "    __tablename__ = 'nodes'\n",
    "    \n",
    "    id = Column(Integer, primary_key=True)\n",
    "    lat = Column(Float)\n",
    "    lon = Column(Float)\n",
    "    rank = Column(Integer)\n",
    "    g = Column(Float)\n",
    "    f = Column(Float)\n",
    "    parent_id = Column(Integer, ForeignKey('nodes.id'))\n",
    "    parent = relationship(\"Node\", remote_side=[id], backref=\"children\")\n",
    "\n",
    "class Neighbor(Base):\n",
    "    __tablename__ = 'neighbors'\n",
    "    \n",
    "    node_id = Column(Integer, ForeignKey('nodes.id'), primary_key=True)\n",
    "    neighbor_id = Column(Integer, ForeignKey('nodes.id'), primary_key=True)\n",
    "    node = relationship(\"Node\", foreign_keys=[node_id], backref=\"neighbor_links\")\n",
    "    neighbor = relationship(\"Node\", foreign_keys=[neighbor_id])\n",
    "\n",
    "# 테이블 생성\n",
    "Base.metadata.create_all(engine)"
   ]
  },
  {
   "cell_type": "code",
   "execution_count": null,
   "id": "0b9a1095",
   "metadata": {},
   "outputs": [],
   "source": []
  }
 ],
 "metadata": {
  "kernelspec": {
   "display_name": "Python 3 (ipykernel)",
   "language": "python",
   "name": "python3"
  },
  "language_info": {
   "codemirror_mode": {
    "name": "ipython",
    "version": 3
   },
   "file_extension": ".py",
   "mimetype": "text/x-python",
   "name": "python",
   "nbconvert_exporter": "python",
   "pygments_lexer": "ipython3",
   "version": "3.10.9"
  }
 },
 "nbformat": 4,
 "nbformat_minor": 5
}
