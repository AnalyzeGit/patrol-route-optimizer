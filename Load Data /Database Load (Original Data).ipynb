{
 "cells": [
  {
   "cell_type": "code",
   "execution_count": 12,
   "id": "53df9fab",
   "metadata": {},
   "outputs": [],
   "source": [
    "# Handling\n",
    "import pandas as pd\n",
    "\n",
    "# Module\n",
    "from loadDatabase import *\n",
    "from preprocessingPoint import *\n",
    "\n",
    "# gis\n",
    "import geopandas as gpd"
   ]
  },
  {
   "cell_type": "markdown",
   "id": "67ddc55a",
   "metadata": {},
   "source": [
    "<span style='background-color:rgba(0,0,255,0.3); color:white; padding: 5px; border-radius:5px;'> 프로세스 </span>\n",
    "\n",
    "* 데이터 로드\n",
    "* 데이터 정제\n",
    "* 데이터 로드"
   ]
  },
  {
   "cell_type": "markdown",
   "id": "c0ec4f17",
   "metadata": {},
   "source": [
    "<span style='border:0.5px solid blue; padding:5px; border-radius:5px; font-size:13.5px'> 서울 시 무더위 쉼터 </span>"
   ]
  },
  {
   "cell_type": "markdown",
   "id": "f9bf253f",
   "metadata": {},
   "source": [
    "<span style='border:0.5px solid black; padding:5px; border-radius:5px;'> 데이터 로드 </span>"
   ]
  },
  {
   "cell_type": "code",
   "execution_count": 22,
   "id": "d5ab71fb",
   "metadata": {},
   "outputs": [],
   "source": [
    "# Action: 무더위 쉼터 데이터 로드\n",
    "\n",
    "heat_shelter = pd.read_csv(r\"C:\\Users\\pc021\\Desktop\\성장\\공모전\\QGIS\\CSV\\서울 시 무더위쉼터\\서울시 무더위쉼터.csv\", encoding='cp949')"
   ]
  },
  {
   "cell_type": "code",
   "execution_count": 23,
   "id": "4c313a31",
   "metadata": {},
   "outputs": [],
   "source": [
    "heat_shelter = heat_shelter.reset_index()\n",
    "\n",
    "heat_shelter = heat_shelter.rename({'index':'ID'}, axis=12)"
   ]
  },
  {
   "cell_type": "code",
   "execution_count": 25,
   "id": "34ed25ef",
   "metadata": {},
   "outputs": [],
   "source": [
    "heat_shelter.to_csv(r\"C:\\Users\\pc021\\Desktop\\성장\\공모전\\QGIS\\CSV\\서울 시 무더위쉼터\\서울시 무더위쉼터(ID.csv\", encoding='utf-8')"
   ]
  },
  {
   "cell_type": "markdown",
   "id": "b6c7836d",
   "metadata": {},
   "source": [
    "<span style='border:0.5px solid black; padding:5px; border-radius:5px;'> 데이터 정제 </span>"
   ]
  },
  {
   "cell_type": "code",
   "execution_count": null,
   "id": "6c1dcc8c",
   "metadata": {},
   "outputs": [],
   "source": [
    "# Action: 무더위 쉼터 데이터 정제\n",
    "\n",
    "# 변수 선택\n",
    "heat_shelter = heat_shelter[['쉼터명칭','도로명주소','위도','경도']]"
   ]
  },
  {
   "cell_type": "markdown",
   "id": "aef48e5b",
   "metadata": {},
   "source": [
    "<span style='border:0.5px solid blue; padding:5px; border-radius:5px; font-size:13.5px'> 서울 시 안전센터 </span>"
   ]
  },
  {
   "cell_type": "markdown",
   "id": "c66427ed",
   "metadata": {},
   "source": [
    "<span style='border:0.5px solid black; padding:5px; border-radius:5px;'> 데이터 로드 </span>"
   ]
  },
  {
   "cell_type": "code",
   "execution_count": null,
   "id": "710130db",
   "metadata": {},
   "outputs": [],
   "source": [
    "# 11. safety_center 좌표계 변환\n",
    "\n",
    "# 11.1 shp 좌표계 변환\n",
    "safety_center_shp = safety_center_shp.to_crs(epsg = 4326)\n",
    "\n",
    "# 11.2 point 생성\n",
    "safety_center_shp = preprocess_point(safety_center_shp,'geometry')"
   ]
  },
  {
   "cell_type": "code",
   "execution_count": null,
   "id": "e1f86e3a",
   "metadata": {},
   "outputs": [],
   "source": [
    "# Action: 안전센터 데이터 로드\n",
    "\n",
    "#safety_center = pd.read_csv(r\"C:\\Users\\pc021\\Desktop\\성장\\공모전\\QGIS\\CSV\\서울시 소방서,안전센터,구조대 위치정보.csv\", encoding='cp949')\n",
    "\n",
    "# safety_center_shp\n",
    "#safety_center_shp = gpd.read_file(r\"C:\\Users\\pc021\\Desktop\\성장\\공모전\\QGIS\\SHP\\안전센터, 소방서 위치\\서울 시 안전센터, 소방서, 구조대 위치.shp\", encoding='euc_kr')"
   ]
  },
  {
   "cell_type": "markdown",
   "id": "3c599281",
   "metadata": {},
   "source": [
    "<span style='border:0.5px solid black; padding:5px; border-radius:5px;'> 데이터 정제 </span>"
   ]
  },
  {
   "cell_type": "code",
   "execution_count": null,
   "id": "70f9b9fe",
   "metadata": {},
   "outputs": [],
   "source": [
    "# 10. safety_center 좌표계 변환\n",
    "\n",
    "# 좌표 설정\n",
    "emergency_bell_geo = emergency_bell_geo.set_crs(epsg=5178, inplace=False)\n",
    "\n",
    "# 10.1 shp 좌표계 변환\n",
    "emergency_bell_geo = emergency_bell_geo.to_crs(epsg = 4326)\n",
    "\n",
    "# 10.2 point 생성\n",
    "emergency_bell_geo = preprocess_point(emergency_bell_geo,'geometry')"
   ]
  },
  {
   "cell_type": "code",
   "execution_count": null,
   "id": "cde9af76",
   "metadata": {},
   "outputs": [],
   "source": [
    "# Action: 안전센터\n",
    "\n",
    "# 1, 변수 선택\n",
    "safety_center = safety_center_shp[['연번','서ㆍ센터명','유형구분명','경도','위도']]\n",
    "\n",
    "# 2, 변수 명칭 변경\n",
    "safety_center.columns = ['ID','CENTER_NAME','TYPE','LON','LAT']"
   ]
  },
  {
   "cell_type": "markdown",
   "id": "d83b8b3c",
   "metadata": {},
   "source": [
    "<span style='border:0.5px solid blue; padding:5px; border-radius:5px; font-size:13.5px'> 서울 시 안전비상벨 </span>"
   ]
  },
  {
   "cell_type": "markdown",
   "id": "dcb76b1f",
   "metadata": {},
   "source": [
    "<span style='border:0.5px solid black; padding:5px; border-radius:5px;'> 데이터 로드 </span>"
   ]
  },
  {
   "cell_type": "code",
   "execution_count": null,
   "id": "99419786",
   "metadata": {},
   "outputs": [],
   "source": [
    "# Action: 안전비상벨 데이터 로드\n",
    "\n",
    "#emergency_bell_geo = gpd.read_file(r\"C:\\Users\\pc021\\Desktop\\성장\\공모전\\QGIS\\SHP\\안전비상벨 위치\\서울특별시_안전비상벨위치_20220316_UTMK.shp\", encoding='cp949')"
   ]
  },
  {
   "cell_type": "markdown",
   "id": "96a5083b",
   "metadata": {},
   "source": [
    "<span style='border:0.5px solid black; padding:5px; border-radius:5px;'> 데이터 정제 </span>"
   ]
  },
  {
   "cell_type": "code",
   "execution_count": null,
   "id": "9e921db6",
   "metadata": {},
   "outputs": [],
   "source": [
    "# Action: 안전 비상벨 좌표계 변환\n",
    "\n",
    "# 1. 좌표 설정\n",
    "emergency_bell_geo = emergency_bell_geo.set_crs(epsg=5178, inplace=False)\n",
    "\n",
    "# 2. shp 좌표계 변환\n",
    "emergency_bell_geo = emergency_bell_geo.to_crs(epsg = 4326)\n",
    "\n",
    "# 3. point 생성\n",
    "emergency_bell_geo = preprocess_point(emergency_bell_geo,'geometry')"
   ]
  },
  {
   "cell_type": "code",
   "execution_count": 11,
   "id": "d8fddb1a",
   "metadata": {
    "collapsed": true
   },
   "outputs": [
    {
     "ename": "NameError",
     "evalue": "name 'emergency_bell_geo' is not defined",
     "output_type": "error",
     "traceback": [
      "\u001b[1;31m---------------------------------------------------------------------------\u001b[0m",
      "\u001b[1;31mNameError\u001b[0m                                 Traceback (most recent call last)",
      "Cell \u001b[1;32mIn[11], line 4\u001b[0m\n\u001b[0;32m      1\u001b[0m \u001b[38;5;66;03m# Action: 안전 비상벨 데이터 정제 \u001b[39;00m\n\u001b[0;32m      2\u001b[0m \n\u001b[0;32m      3\u001b[0m \u001b[38;5;66;03m# 7.1 변수 선택\u001b[39;00m\n\u001b[1;32m----> 4\u001b[0m emergency_bell \u001b[38;5;241m=\u001b[39m \u001b[43memergency_bell_geo\u001b[49m[[\u001b[38;5;124m'\u001b[39m\u001b[38;5;124m설치위치\u001b[39m\u001b[38;5;124m'\u001b[39m,\u001b[38;5;124m'\u001b[39m\u001b[38;5;124m소재지지번\u001b[39m\u001b[38;5;124m'\u001b[39m,\u001b[38;5;124m'\u001b[39m\u001b[38;5;124m부가기능\u001b[39m\u001b[38;5;124m'\u001b[39m,\u001b[38;5;124m'\u001b[39m\u001b[38;5;124m경도\u001b[39m\u001b[38;5;124m'\u001b[39m,\u001b[38;5;124m'\u001b[39m\u001b[38;5;124m위도\u001b[39m\u001b[38;5;124m'\u001b[39m]]\n\u001b[0;32m      6\u001b[0m \u001b[38;5;66;03m# 7.2 변수 명칭 변경\u001b[39;00m\n\u001b[0;32m      7\u001b[0m emergency_bell\u001b[38;5;241m.\u001b[39mcolumns \u001b[38;5;241m=\u001b[39m [\u001b[38;5;124m'\u001b[39m\u001b[38;5;124mINSTALLATION_LOCATION\u001b[39m\u001b[38;5;124m'\u001b[39m,\u001b[38;5;124m'\u001b[39m\u001b[38;5;124mADDRESS\u001b[39m\u001b[38;5;124m'\u001b[39m,\u001b[38;5;124m'\u001b[39m\u001b[38;5;124mFUNTION\u001b[39m\u001b[38;5;124m'\u001b[39m,\u001b[38;5;124m'\u001b[39m\u001b[38;5;124mLON\u001b[39m\u001b[38;5;124m'\u001b[39m,\u001b[38;5;124m'\u001b[39m\u001b[38;5;124mLAT\u001b[39m\u001b[38;5;124m'\u001b[39m]\n",
      "\u001b[1;31mNameError\u001b[0m: name 'emergency_bell_geo' is not defined"
     ]
    }
   ],
   "source": [
    "# Action: 안전 비상벨 데이터 정제 \n",
    "\n",
    "# 1 변수 선택\n",
    "emergency_bell = emergency_bell_geo[['설치위치','소재지지번','부가기능','경도','위도']]\n",
    "\n",
    "# 2 변수 명칭 변경\n",
    "emergency_bell.columns = ['INSTALLATION_LOCATION','ADDRESS','FUNTION','LON','LAT']"
   ]
  },
  {
   "cell_type": "markdown",
   "id": "44ae1024",
   "metadata": {},
   "source": [
    "<span style='border:0.5px solid blue; padding:5px; border-radius:5px; font-size:13.5px'> 서울 시 안전시설물 </span>"
   ]
  },
  {
   "cell_type": "markdown",
   "id": "8b4e353b",
   "metadata": {},
   "source": [
    "<span style='border:0.5px solid black; padding:5px; border-radius:5px;'> 데이터 로드 </span>"
   ]
  },
  {
   "cell_type": "code",
   "execution_count": null,
   "id": "7ab361b0",
   "metadata": {},
   "outputs": [],
   "source": [
    "# Action: 안전 시설물 데이터 로드\n",
    "\n",
    "#safety_facilities = pd.read_csv(r\"C:\\Users\\pc021\\Desktop\\성장\\공모전\\QGIS\\CSV\\안심귀갓길 안전시설물\\서울시 안심귀갓길 안전시설물(전처리).csv\",encoding='cp949')"
   ]
  },
  {
   "cell_type": "markdown",
   "id": "240b342c",
   "metadata": {},
   "source": [
    "<span style='border:0.5px solid black; padding:5px; border-radius:5px;'> 데이터 정제 </span>"
   ]
  },
  {
   "cell_type": "code",
   "execution_count": null,
   "id": "ae58faa9",
   "metadata": {},
   "outputs": [],
   "source": [
    "# Action: 안전 시설물 데이터 정제\n",
    "\n",
    "# 1 변수 선택\n",
    "safety_facilities = safety_facilities[['시군구명','읍면동명','안심귀갓길 명','설치대수','경도','위도','시설명']]\n",
    "\n",
    "# 2 변수 명칭 변경\n",
    "safety_facilities.columns = ['CITY','DONG','ROAD_NAME','NUMBER','LON','LAT','FACILITY_NAME']"
   ]
  },
  {
   "cell_type": "markdown",
   "id": "bccc1d65",
   "metadata": {},
   "source": [
    "<span style='border:0.5px solid blue; padding:5px; border-radius:5px; font-size:13.5px'> 서울 시 CCTV </span>"
   ]
  },
  {
   "cell_type": "markdown",
   "id": "9a7a909d",
   "metadata": {},
   "source": [
    "<span style='border:0.5px solid black; padding:5px; border-radius:5px;'> 데이터 로드 </span>"
   ]
  },
  {
   "cell_type": "code",
   "execution_count": 10,
   "id": "c05c1469",
   "metadata": {},
   "outputs": [],
   "source": [
    "# Action: CCTV 데이터 로드\n",
    "#cctv = pd.read_csv(r\"C:\\Users\\pc021\\Desktop\\성장\\공모전\\QGIS\\CSV\\서울시 안심이 CCTV\\서울시 안심이 CCTV 연계 현황.csv\", encoding='cp949')"
   ]
  },
  {
   "cell_type": "markdown",
   "id": "07d54c26",
   "metadata": {},
   "source": [
    "<span style='border:0.5px solid black; padding:5px; border-radius:5px;'> 데이터 정제 </span>"
   ]
  },
  {
   "cell_type": "code",
   "execution_count": null,
   "id": "a476df9f",
   "metadata": {},
   "outputs": [],
   "source": [
    "# Action: CCTV 데이터 정제\n",
    "\n",
    "# 1. 변수 선택\n",
    "cctv = cctv[['자치구','안심 주소','CCTV 수량','경도','위도']]\n",
    "\n",
    "# 2. 변수 명칭 변경\n",
    "cctv.columns = ['AUTONOMOUS_REGION','ADDRESS','NUMBER','LON','LAT']"
   ]
  },
  {
   "cell_type": "code",
   "execution_count": 6,
   "id": "2d782ca4",
   "metadata": {},
   "outputs": [
    {
     "name": "stdout",
     "output_type": "stream",
     "text": [
      "DataFrame has been successfully loaded into an_cctv table in myappDB database.\n"
     ]
    }
   ],
   "source": [
    "# 데이터 적재\n",
    "\n",
    "#load_database(heat_shelter,'an_heat_shelter')\n",
    "#load_database(safety_center,'an_safety_center')\n",
    "#load_database(cctv,'an_cctv')\n",
    "#load_database(emergency_bell,'an_safety_emergency_bell')\n",
    "#load_database(safety_facilities,'an_safety_facilities') "
   ]
  }
 ],
 "metadata": {
  "kernelspec": {
   "display_name": "Python 3 (ipykernel)",
   "language": "python",
   "name": "python3"
  },
  "language_info": {
   "codemirror_mode": {
    "name": "ipython",
    "version": 3
   },
   "file_extension": ".py",
   "mimetype": "text/x-python",
   "name": "python",
   "nbconvert_exporter": "python",
   "pygments_lexer": "ipython3",
   "version": "3.10.9"
  }
 },
 "nbformat": 4,
 "nbformat_minor": 5
}
